{
 "cells": [
  {
   "cell_type": "markdown",
   "id": "4f58a460",
   "metadata": {},
   "source": [
    "### Importando as bibliotecas necessárias"
   ]
  },
  {
   "cell_type": "code",
   "execution_count": 3,
   "id": "30e4bd5f",
   "metadata": {},
   "outputs": [],
   "source": [
    "import numpy as np\n",
    "import matplotlib.pyplot as plt\n"
   ]
  },
  {
   "cell_type": "markdown",
   "id": "60bc802e",
   "metadata": {},
   "source": [
    "### Gerando dados fictícios:"
   ]
  },
  {
   "cell_type": "code",
   "execution_count": 4,
   "id": "4353eba1",
   "metadata": {},
   "outputs": [],
   "source": [
    "\n",
    "# Semente para reprodutibilidade\n",
    "np.random.seed(42)\n",
    "\n",
    "# Gerando dados fictícios para 100 casas\n",
    "n_amostras = 100\n",
    "# x₁: tamanho (entre 300 e 2000 m²)\n",
    "x1 = np.random.uniform(300, 2000, n_amostras)\n",
    "# x₂: número de quartos (entre 1 e 5)\n",
    "x2 = np.random.randint(1, 6, n_amostras)\n",
    "# x₃: andares (entre 1 e 3)\n",
    "x3 = np.random.randint(1, 4, n_amostras)\n",
    "# x₄: idade (entre 0 e 50 anos)\n",
    "x4 = np.random.randint(0, 51, n_amostras)\n",
    "\n",
    "# Criando a matriz de características (cada coluna é um recurso)\n",
    "X = np.column_stack((x1, x2, x3, x4))\n",
    "\n",
    "# Parâmetros reais para gerar o preço (com algum ruído)\n",
    "# preço = b + 200*x₁ + 10000*x₂ + 15000*x₃ - 500*x₄ + ruído\n",
    "b_real = 50000\n",
    "w_real = np.array([200, 10000, 15000, -500])\n",
    "ruido = np.random.normal(0, 20000, n_amostras)\n",
    "\n",
    "y = b_real + X.dot(w_real) + ruido\n",
    "\n"
   ]
  },
  {
   "cell_type": "markdown",
   "id": "39161221",
   "metadata": {},
   "source": [
    "### Escalonamento de recursos"
   ]
  },
  {
   "cell_type": "code",
   "execution_count": 5,
   "id": "b09834c0",
   "metadata": {},
   "outputs": [
    {
     "name": "stdout",
     "output_type": "stream",
     "text": [
      "Primeiros 5 valores de x₁ original: [ 936.71820204 1916.2143209  1544.38970108 1317.71942313  565.23168875]\n",
      "Primeiros 5 valores de x₁ escalado: [0.4683591  0.95810716 0.77219485 0.65885971 0.28261584]\n",
      "Primeiros 5 valores de x₁ normalizado: [ 0.19806953  0.77424372  0.55552335  0.4221879  -0.02045195]\n",
      "Primeiros 5 valores de x₁ (Z-Score): [-0.32311215  1.62343393  0.88450935  0.43404902 -1.06136481]\n"
     ]
    }
   ],
   "source": [
    "\n",
    "# Pré-processamento: escalonamento de x₁ (exemplo com a primeira coluna)\n",
    "# Divisão pelo máximo:\n",
    "x1_escalado = x1 / 2000\n",
    "\n",
    "# Normalização pela média com intervalo fixo:\n",
    "# Supondo μ₁ = 600, intervalo de [300, 2000]\n",
    "mu1 = 600\n",
    "x1_normalizado = (x1 - mu1) / (2000 - 300)\n",
    "\n",
    "# Padronização (Z-Score):\n",
    "sigma1 = np.std(x1)\n",
    "x1_zscore = (x1 - np.mean(x1)) / sigma1\n",
    "\n",
    "# Exibindo alguns valores para comparação\n",
    "print(\"Primeiros 5 valores de x₁ original:\", x1[:5])\n",
    "print(\"Primeiros 5 valores de x₁ escalado:\", x1_escalado[:5])\n",
    "print(\"Primeiros 5 valores de x₁ normalizado:\", x1_normalizado[:5])\n",
    "print(\"Primeiros 5 valores de x₁ (Z-Score):\", x1_zscore[:5])\n",
    "\n"
   ]
  },
  {
   "cell_type": "markdown",
   "id": "928145cd",
   "metadata": {},
   "source": [
    "### Preparando os dados para a regressão linear"
   ]
  },
  {
   "cell_type": "code",
   "execution_count": null,
   "id": "af04e75a",
   "metadata": {},
   "outputs": [
    {
     "name": "stdout",
     "output_type": "stream",
     "text": [
      "Iteração 0: Custo = 54928833111.15847\n",
      "Iteração 100: Custo = 41297621531.592674\n",
      "Iteração 200: Custo = 31125092690.444218\n",
      "Iteração 300: Custo = 23533665484.98812\n",
      "Iteração 400: Custo = 17868429884.183277\n",
      "Iteração 500: Custo = 13640647984.004108\n",
      "Iteração 600: Custo = 10485590695.706024\n",
      "Iteração 700: Custo = 8131072647.373339\n",
      "Iteração 800: Custo = 6373970811.610988\n",
      "Iteração 900: Custo = 5062701126.543196\n",
      "\n",
      "Pesos finais (incluindo bias): [1.73091605e-01 2.08582964e+02 5.35864403e-01 3.42015618e-01\n",
      " 4.47906257e+00]\n"
     ]
    }
   ],
   "source": [
    "\n",
    "# (Aqui usaremos todas as características sem pré-processamento adicional,\n",
    "#  mas você pode substituir a coluna x₁ por alguma das versões processadas)\n",
    "m, n = X.shape\n",
    "\n",
    "# Acrescenta uma coluna de 1's para o bias (intercepto)\n",
    "X_bias = np.hstack((np.ones((m, 1)), X))\n",
    "\n",
    "# Inicializando os parâmetros (w: pesos, incluindo o intercepto b na posição 0)\n",
    "w = np.zeros(n + 1)\n",
    "\n",
    "# Função para calcular o custo (Erro Quadrático Médio)\n",
    "def custo(X, y, w):\n",
    "    m = len(y)\n",
    "    previsao = X.dot(w)\n",
    "    erro = previsao - y\n",
    "    return (1 / (2 * m)) * np.dot(erro, erro)\n",
    "\n",
    "# Parâmetros do gradiente descendente\n",
    "alpha = 0.000000001  # taxa de aprendizado (pode precisar de ajuste dependendo dos dados)\n",
    "n_iteracoes = 1000\n",
    "\n",
    "# Armazenar histórico do custo para visualização\n",
    "custos = []\n",
    "\n",
    "\n",
    "# Gradiente descendente com operações vetorizadas\n",
    "for i in range(n_iteracoes):\n",
    "    # Calcula a previsão\n",
    "    previsao = X_bias.dot(w)\n",
    "    # Calcula o erro\n",
    "    erro = previsao - y\n",
    "    # Calcula o gradiente\n",
    "    gradiente = (1 / m) * X_bias.T.dot(erro)\n",
    "    # Atualiza os pesos\n",
    "    w = w - alpha * gradiente\n",
    "    # Armazena o custo atual\n",
    "    custos.append(custo(X_bias, y, w))\n",
    "\n",
    "    # Opcional: exibir o custo a cada 100 iterações\n",
    "    if i % 100 == 0:\n",
    "        print(f\"Iteração {i}: Custo = {custos[-1]}\")\n",
    "\n",
    "# Exibe os pesos finais (w[0] é o bias)\n",
    "print(\"\\nPesos finais (incluindo bias):\", w)\n",
    "\n"
   ]
  },
  {
   "cell_type": "markdown",
   "id": "11fcd72d",
   "metadata": {},
   "source": [
    "### Visualizando o custo ao longo das iterações"
   ]
  },
  {
   "cell_type": "code",
   "execution_count": 7,
   "id": "c32eec39",
   "metadata": {},
   "outputs": [
    {
     "data": {
      "image/png": "[encoded data removed]",
      "text/plain": [
       "<Figure size 640x480 with 1 Axes>"
      ]
     },
     "metadata": {},
     "output_type": "display_data"
    }
   ],
   "source": [
    "# Plot da curva de custo para verificar a convergência\n",
    "plt.plot(custos)\n",
    "plt.xlabel(\"Iterações\")\n",
    "plt.ylabel(\"Custo\")\n",
    "plt.title(\"Convergência do Gradiente Descendente\")\n",
    "plt.show()\n"
   ]
  }
 ],
 "metadata": {
  "kernelspec": {
   "display_name": "Python 3",
   "language": "python",
   "name": "python3"
  },
  "language_info": {
   "codemirror_mode": {
    "name": "ipython",
    "version": 3
   },
   "file_extension": ".py",
   "mimetype": "text/x-python",
   "name": "python",
   "nbconvert_exporter": "python",
   "pygments_lexer": "ipython3",
   "version": "3.10.0"
  }
 },
 "nbformat": 4,
 "nbformat_minor": 5
}
